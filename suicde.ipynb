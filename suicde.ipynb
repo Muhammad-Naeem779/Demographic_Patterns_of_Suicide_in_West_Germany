{
 "cells": [
  {
   "cell_type": "markdown",
   "metadata": {},
   "source": [
    "# **Demographic Patterns of Suicide in West Germany**\n",
    "### `Author`: [Muhammad Naeem](https://www.kaggle.com/muhammadnaeem779/code)\n",
    "\n",
    "# **About Data (Metadata)**\n",
    "Data from Heuer (1979) on suicide rates in West Germany classified by age, sex, and method of suicide.\n",
    "A data frame with 306 observations and 6 variables.\n",
    "\n",
    "Column | Description \n",
    "---------|----------\n",
    " Freq | frequency of suicides \n",
    " sex | factor indicating sex (male, female). \n",
    " method | factor indicating method used. (poison, cookgas, toxicgas, hang, drown) \n",
    " age | age (rounded).\n",
    " age.group | factor. Age classified into 5 groups\n",
    " method2 | factor indicating method used (same as method but some levels are merged).\n"
   ]
  },
  {
   "cell_type": "markdown",
   "metadata": {},
   "source": [
    "[Dataset](https://www.kaggle.com/datasets/utkarshx27/suicide-rates-in-germany)"
   ]
  },
  {
   "cell_type": "markdown",
   "metadata": {},
   "source": [
    "# **Questions**\n",
    "1. What is the count and percentage of each sex (male and female) in the dataset \n",
    "2. What is the count and percentage of each suicide method in the dataset? \n",
    "3. How did suicide rates differ between males and females in West Germany?\n",
    "4. What trends can be observed in suicide frequencies among different age groups?\n",
    "5. How did suicidality rates vary between genders for different suicide methods?\n",
    "6. How did suicide rates in West Germany differ between age groups for each gender?\n",
    "7. How did suicide rates vary among age groups for different suicide methods?"
   ]
  },
  {
   "cell_type": "markdown",
   "metadata": {},
   "source": [
    "# **Import Libraries**"
   ]
  },
  {
   "cell_type": "code",
   "execution_count": 1,
   "metadata": {},
   "outputs": [],
   "source": [
    "# import libraries\n",
    "\n",
    "# to handle the data\n",
    "import numpy as np \n",
    "import pandas as pd \n",
    "\n",
    "# to visualize the data\n",
    "import plotly.express as px \n",
    "import seaborn as sns\n",
    "import matplotlib.pyplot as plt\n",
    "\n",
    "# ignore warnings   \n",
    "import warnings\n",
    "warnings.filterwarnings('ignore')"
   ]
  },
  {
   "cell_type": "markdown",
   "metadata": {},
   "source": [
    "# **Load Dataset**\n",
    "Load the dataset by using `Pandas` library"
   ]
  },
  {
   "cell_type": "code",
   "execution_count": 2,
   "metadata": {},
   "outputs": [
    {
     "data": {
      "text/html": [
       "<div>\n",
       "<style scoped>\n",
       "    .dataframe tbody tr th:only-of-type {\n",
       "        vertical-align: middle;\n",
       "    }\n",
       "\n",
       "    .dataframe tbody tr th {\n",
       "        vertical-align: top;\n",
       "    }\n",
       "\n",
       "    .dataframe thead th {\n",
       "        text-align: right;\n",
       "    }\n",
       "</style>\n",
       "<table border=\"1\" class=\"dataframe\">\n",
       "  <thead>\n",
       "    <tr style=\"text-align: right;\">\n",
       "      <th></th>\n",
       "      <th>Unnamed: 0</th>\n",
       "      <th>Freq</th>\n",
       "      <th>sex</th>\n",
       "      <th>method</th>\n",
       "      <th>age</th>\n",
       "      <th>age.group</th>\n",
       "      <th>method2</th>\n",
       "    </tr>\n",
       "  </thead>\n",
       "  <tbody>\n",
       "    <tr>\n",
       "      <th>0</th>\n",
       "      <td>1</td>\n",
       "      <td>4</td>\n",
       "      <td>male</td>\n",
       "      <td>poison</td>\n",
       "      <td>10</td>\n",
       "      <td>10-20</td>\n",
       "      <td>poison</td>\n",
       "    </tr>\n",
       "    <tr>\n",
       "      <th>1</th>\n",
       "      <td>2</td>\n",
       "      <td>0</td>\n",
       "      <td>male</td>\n",
       "      <td>cookgas</td>\n",
       "      <td>10</td>\n",
       "      <td>10-20</td>\n",
       "      <td>gas</td>\n",
       "    </tr>\n",
       "    <tr>\n",
       "      <th>2</th>\n",
       "      <td>3</td>\n",
       "      <td>0</td>\n",
       "      <td>male</td>\n",
       "      <td>toxicgas</td>\n",
       "      <td>10</td>\n",
       "      <td>10-20</td>\n",
       "      <td>gas</td>\n",
       "    </tr>\n",
       "    <tr>\n",
       "      <th>3</th>\n",
       "      <td>4</td>\n",
       "      <td>247</td>\n",
       "      <td>male</td>\n",
       "      <td>hang</td>\n",
       "      <td>10</td>\n",
       "      <td>10-20</td>\n",
       "      <td>hang</td>\n",
       "    </tr>\n",
       "    <tr>\n",
       "      <th>4</th>\n",
       "      <td>5</td>\n",
       "      <td>1</td>\n",
       "      <td>male</td>\n",
       "      <td>drown</td>\n",
       "      <td>10</td>\n",
       "      <td>10-20</td>\n",
       "      <td>drown</td>\n",
       "    </tr>\n",
       "  </tbody>\n",
       "</table>\n",
       "</div>"
      ],
      "text/plain": [
       "   Unnamed: 0  Freq   sex    method  age age.group method2\n",
       "0           1     4  male    poison   10     10-20  poison\n",
       "1           2     0  male   cookgas   10     10-20     gas\n",
       "2           3     0  male  toxicgas   10     10-20     gas\n",
       "3           4   247  male      hang   10     10-20    hang\n",
       "4           5     1  male     drown   10     10-20   drown"
      ]
     },
     "execution_count": 2,
     "metadata": {},
     "output_type": "execute_result"
    }
   ],
   "source": [
    "df = pd.read_csv(\"Suicide.csv\")\n",
    "df.head()"
   ]
  },
  {
   "cell_type": "markdown",
   "metadata": {},
   "source": [
    "## **Observations:**\n",
    "\n",
    "> - We have 7 columns in our dataset.\n",
    "> \n",
    "> - The first column is **Unnamed: 0** which is totally meaningless column from suicide dataset.\n",
    "> \n",
    "> - 2nd column **Freq** shows the frequency of every row.\n",
    "> \n",
    "> -  3rd column **sex** shows the gender which are present in this data.\n",
    "> \n",
    "> - 4th column **method** represents the method of  committed suicide.\n",
    "> \n",
    "> - 5th column **age** represents the age of person who committed suicide.\n",
    "> \n",
    "> - 6th column **age.group** represents the groups of age in the specific range.\n",
    "> \n",
    "> - 7th column **method2** represents the method of  committed suicide."
   ]
  },
  {
   "cell_type": "markdown",
   "metadata": {},
   "source": [
    "# **Data Wrangling:**\n",
    "**Let's check the shape of the dataset:**"
   ]
  },
  {
   "cell_type": "code",
   "execution_count": 5,
   "metadata": {},
   "outputs": [
    {
     "name": "stdout",
     "output_type": "stream",
     "text": [
      "The shape of the dataset is (306, 7)\n"
     ]
    }
   ],
   "source": [
    "# check the shape of the dataset\n",
    "print(f\"The shape of the dataset is {df.shape}\")"
   ]
  },
  {
   "cell_type": "markdown",
   "metadata": {},
   "source": [
    "**Let's check the types of the variables:**"
   ]
  },
  {
   "cell_type": "code",
   "execution_count": 6,
   "metadata": {},
   "outputs": [
    {
     "name": "stdout",
     "output_type": "stream",
     "text": [
      "The types of the variables are:\n",
      "Unnamed: 0     int64\n",
      "Freq           int64\n",
      "sex           object\n",
      "method        object\n",
      "age            int64\n",
      "age.group     object\n",
      "method2       object\n",
      "dtype: object\n"
     ]
    }
   ],
   "source": [
    "print(f\"The types of the variables are:\\n{df.dtypes}\")"
   ]
  },
  {
   "cell_type": "markdown",
   "metadata": {},
   "source": [
    "> There are three integer,one float and three object type variables."
   ]
  },
  {
   "cell_type": "code",
   "execution_count": 7,
   "metadata": {},
   "outputs": [
    {
     "name": "stdout",
     "output_type": "stream",
     "text": [
      "<class 'pandas.core.frame.DataFrame'>\n",
      "RangeIndex: 306 entries, 0 to 305\n",
      "Data columns (total 7 columns):\n",
      " #   Column      Non-Null Count  Dtype \n",
      "---  ------      --------------  ----- \n",
      " 0   Unnamed: 0  306 non-null    int64 \n",
      " 1   Freq        306 non-null    int64 \n",
      " 2   sex         306 non-null    object\n",
      " 3   method      306 non-null    object\n",
      " 4   age         306 non-null    int64 \n",
      " 5   age.group   306 non-null    object\n",
      " 6   method2     306 non-null    object\n",
      "dtypes: int64(3), object(4)\n",
      "memory usage: 16.9+ KB\n"
     ]
    }
   ],
   "source": [
    "df.info()"
   ]
  },
  {
   "cell_type": "code",
   "execution_count": 8,
   "metadata": {},
   "outputs": [
    {
     "data": {
      "text/html": [
       "<div>\n",
       "<style scoped>\n",
       "    .dataframe tbody tr th:only-of-type {\n",
       "        vertical-align: middle;\n",
       "    }\n",
       "\n",
       "    .dataframe tbody tr th {\n",
       "        vertical-align: top;\n",
       "    }\n",
       "\n",
       "    .dataframe thead th {\n",
       "        text-align: right;\n",
       "    }\n",
       "</style>\n",
       "<table border=\"1\" class=\"dataframe\">\n",
       "  <thead>\n",
       "    <tr style=\"text-align: right;\">\n",
       "      <th></th>\n",
       "      <th>Unnamed: 0</th>\n",
       "      <th>Freq</th>\n",
       "      <th>age</th>\n",
       "    </tr>\n",
       "  </thead>\n",
       "  <tbody>\n",
       "    <tr>\n",
       "      <th>count</th>\n",
       "      <td>306.000000</td>\n",
       "      <td>306.000000</td>\n",
       "      <td>306.00000</td>\n",
       "    </tr>\n",
       "    <tr>\n",
       "      <th>mean</th>\n",
       "      <td>153.500000</td>\n",
       "      <td>173.797386</td>\n",
       "      <td>50.00000</td>\n",
       "    </tr>\n",
       "    <tr>\n",
       "      <th>std</th>\n",
       "      <td>88.478811</td>\n",
       "      <td>281.000084</td>\n",
       "      <td>24.53502</td>\n",
       "    </tr>\n",
       "    <tr>\n",
       "      <th>min</th>\n",
       "      <td>1.000000</td>\n",
       "      <td>0.000000</td>\n",
       "      <td>10.00000</td>\n",
       "    </tr>\n",
       "    <tr>\n",
       "      <th>25%</th>\n",
       "      <td>77.250000</td>\n",
       "      <td>10.250000</td>\n",
       "      <td>30.00000</td>\n",
       "    </tr>\n",
       "    <tr>\n",
       "      <th>50%</th>\n",
       "      <td>153.500000</td>\n",
       "      <td>59.000000</td>\n",
       "      <td>50.00000</td>\n",
       "    </tr>\n",
       "    <tr>\n",
       "      <th>75%</th>\n",
       "      <td>229.750000</td>\n",
       "      <td>178.750000</td>\n",
       "      <td>70.00000</td>\n",
       "    </tr>\n",
       "    <tr>\n",
       "      <th>max</th>\n",
       "      <td>306.000000</td>\n",
       "      <td>1381.000000</td>\n",
       "      <td>90.00000</td>\n",
       "    </tr>\n",
       "  </tbody>\n",
       "</table>\n",
       "</div>"
      ],
      "text/plain": [
       "       Unnamed: 0         Freq        age\n",
       "count  306.000000   306.000000  306.00000\n",
       "mean   153.500000   173.797386   50.00000\n",
       "std     88.478811   281.000084   24.53502\n",
       "min      1.000000     0.000000   10.00000\n",
       "25%     77.250000    10.250000   30.00000\n",
       "50%    153.500000    59.000000   50.00000\n",
       "75%    229.750000   178.750000   70.00000\n",
       "max    306.000000  1381.000000   90.00000"
      ]
     },
     "execution_count": 8,
     "metadata": {},
     "output_type": "execute_result"
    }
   ],
   "source": [
    "df.describe()"
   ]
  },
  {
   "cell_type": "markdown",
   "metadata": {},
   "source": [
    "### **Drop the unnecessary data:**\n",
    "Drop the Unnamed: 0 column from the data."
   ]
  },
  {
   "cell_type": "code",
   "execution_count": 9,
   "metadata": {},
   "outputs": [],
   "source": [
    "df.drop(columns=\"Unnamed: 0\", inplace=True)"
   ]
  },
  {
   "cell_type": "markdown",
   "metadata": {},
   "source": [
    "### **Let's check the missing values in the data:**"
   ]
  },
  {
   "cell_type": "code",
   "execution_count": 11,
   "metadata": {},
   "outputs": [
    {
     "name": "stdout",
     "output_type": "stream",
     "text": [
      "The missing values in the dataset are:\n",
      "Freq         0\n",
      "sex          0\n",
      "method       0\n",
      "age          0\n",
      "age.group    0\n",
      "method2      0\n",
      "dtype: int64\n"
     ]
    }
   ],
   "source": [
    "print(f\"The missing values in the dataset are:\\n{df.isnull().sum()}\")"
   ]
  },
  {
   "cell_type": "markdown",
   "metadata": {},
   "source": [
    "## **Observations:**\n",
    "> - There is no missing value in the dataset.\n",
    "\n",
    "### **Let's check the duplicates in the dataset:**"
   ]
  },
  {
   "cell_type": "code",
   "execution_count": 13,
   "metadata": {},
   "outputs": [
    {
     "name": "stdout",
     "output_type": "stream",
     "text": [
      "The duplicate value in the dataset is: 0\n"
     ]
    }
   ],
   "source": [
    "print(f\"The duplicate value in the dataset is: {df.duplicated().sum()}\")"
   ]
  },
  {
   "cell_type": "markdown",
   "metadata": {},
   "source": [
    "# **EDA**\n",
    "### **Let's see the unique values in every column:**"
   ]
  },
  {
   "cell_type": "code",
   "execution_count": 15,
   "metadata": {},
   "outputs": [
    {
     "name": "stdout",
     "output_type": "stream",
     "text": [
      "The unique values of every column in the dataset is:\n",
      "Freq         175\n",
      "sex            2\n",
      "method         9\n",
      "age           17\n",
      "age.group      5\n",
      "method2        8\n",
      "dtype: int64\n"
     ]
    }
   ],
   "source": [
    "print(f\"The unique values of every column in the dataset is:\\n{df.nunique()}\")"
   ]
  },
  {
   "cell_type": "markdown",
   "metadata": {},
   "source": [
    "### **Let's see the unique values of categorical variables:**"
   ]
  },
  {
   "cell_type": "code",
   "execution_count": 19,
   "metadata": {},
   "outputs": [
    {
     "name": "stdout",
     "output_type": "stream",
     "text": [
      "The unique values of sex are :  ['male' 'female']\n",
      "The unique values of method are :  ['poison' 'cookgas' 'toxicgas' 'hang' 'drown' 'gun' 'knife' 'jump' 'other']\n",
      "The unique values of method2 are :  ['poison' 'gas' 'hang' 'drown' 'gun' 'knife' 'jump' 'other']\n"
     ]
    }
   ],
   "source": [
    "# Unique values of sex\n",
    "print(\"The unique values of sex are : \", df[\"sex\"].unique())\n",
    "\n",
    "#Unique vaues of method\n",
    "print(\"The unique values of method are : \", df[\"method\"].unique())\n",
    "\n",
    "#Unique vaues of method2\n",
    "print(\"The unique values of method2 are : \", df[\"method2\"].unique())"
   ]
  },
  {
   "cell_type": "markdown",
   "metadata": {},
   "source": [
    "## **Observations:**\n",
    "\n",
    "> - The sex column include two unique values, one is male and second is female.\n",
    "> \n",
    "> - It means this data has only two genders.\n",
    "> \n",
    "> - The methods discussed in this datasets are poison, cookgas, toxicgas, hang, drown, gun, knife, jump and many others."
   ]
  },
  {
   "cell_type": "code",
   "execution_count": 20,
   "metadata": {},
   "outputs": [
    {
     "data": {
      "text/plain": [
       "method\n",
       "poison      34\n",
       "cookgas     34\n",
       "toxicgas    34\n",
       "hang        34\n",
       "drown       34\n",
       "gun         34\n",
       "knife       34\n",
       "jump        34\n",
       "other       34\n",
       "Name: count, dtype: int64"
      ]
     },
     "execution_count": 20,
     "metadata": {},
     "output_type": "execute_result"
    }
   ],
   "source": [
    "df[\"method\"].value_counts()"
   ]
  },
  {
   "cell_type": "markdown",
   "metadata": {},
   "source": [
    "## **Count-Percentage of sex column:**"
   ]
  },
  {
   "cell_type": "code",
   "execution_count": 29,
   "metadata": {},
   "outputs": [
    {
     "data": {
      "application/vnd.plotly.v1+json": {
       "config": {
        "plotlyServerURL": "https://plot.ly"
       },
       "data": [
        {
         "domain": {
          "x": [
           0,
           1
          ],
          "y": [
           0,
           1
          ]
         },
         "hovertemplate": "sex=%{label}<extra></extra>",
         "labels": [
          "male",
          "male",
          "male",
          "male",
          "male",
          "male",
          "male",
          "male",
          "male",
          "male",
          "male",
          "male",
          "male",
          "male",
          "male",
          "male",
          "male",
          "male",
          "male",
          "male",
          "male",
          "male",
          "male",
          "male",
          "male",
          "male",
          "male",
          "male",
          "male",
          "male",
          "male",
          "male",
          "male",
          "male",
          "male",
          "male",
          "male",
          "male",
          "male",
          "male",
          "male",
          "male",
          "male",
          "male",
          "male",
          "male",
          "male",
          "male",
          "male",
          "male",
          "male",
          "male",
          "male",
          "male",
          "male",
          "male",
          "male",
          "male",
          "male",
          "male",
          "male",
          "male",
          "male",
          "male",
          "male",
          "male",
          "male",
          "male",
          "male",
          "male",
          "male",
          "male",
          "male",
          "male",
          "male",
          "male",
          "male",
          "male",
          "male",
          "male",
          "male",
          "male",
          "male",
          "male",
          "male",
          "male",
          "male",
          "male",
          "male",
          "male",
          "male",
          "male",
          "male",
          "male",
          "male",
          "male",
          "male",
          "male",
          "male",
          "male",
          "male",
          "male",
          "male",
          "male",
          "male",
          "male",
          "male",
          "male",
          "male",
          "male",
          "male",
          "male",
          "male",
          "male",
          "male",
          "male",
          "male",
          "male",
          "male",
          "male",
          "male",
          "male",
          "male",
          "male",
          "male",
          "male",
          "male",
          "male",
          "male",
          "male",
          "male",
          "male",
          "male",
          "male",
          "male",
          "male",
          "male",
          "male",
          "male",
          "male",
          "male",
          "male",
          "male",
          "male",
          "male",
          "male",
          "male",
          "male",
          "male",
          "male",
          "male",
          "male",
          "male",
          "female",
          "female",
          "female",
          "female",
          "female",
          "female",
          "female",
          "female",
          "female",
          "female",
          "female",
          "female",
          "female",
          "female",
          "female",
          "female",
          "female",
          "female",
          "female",
          "female",
          "female",
          "female",
          "female",
          "female",
          "female",
          "female",
          "female",
          "female",
          "female",
          "female",
          "female",
          "female",
          "female",
          "female",
          "female",
          "female",
          "female",
          "female",
          "female",
          "female",
          "female",
          "female",
          "female",
          "female",
          "female",
          "female",
          "female",
          "female",
          "female",
          "female",
          "female",
          "female",
          "female",
          "female",
          "female",
          "female",
          "female",
          "female",
          "female",
          "female",
          "female",
          "female",
          "female",
          "female",
          "female",
          "female",
          "female",
          "female",
          "female",
          "female",
          "female",
          "female",
          "female",
          "female",
          "female",
          "female",
          "female",
          "female",
          "female",
          "female",
          "female",
          "female",
          "female",
          "female",
          "female",
          "female",
          "female",
          "female",
          "female",
          "female",
          "female",
          "female",
          "female",
          "female",
          "female",
          "female",
          "female",
          "female",
          "female",
          "female",
          "female",
          "female",
          "female",
          "female",
          "female",
          "female",
          "female",
          "female",
          "female",
          "female",
          "female",
          "female",
          "female",
          "female",
          "female",
          "female",
          "female",
          "female",
          "female",
          "female",
          "female",
          "female",
          "female",
          "female",
          "female",
          "female",
          "female",
          "female",
          "female",
          "female",
          "female",
          "female",
          "female",
          "female",
          "female",
          "female",
          "female",
          "female",
          "female",
          "female",
          "female",
          "female",
          "female",
          "female",
          "female",
          "female",
          "female",
          "female",
          "female",
          "female",
          "female",
          "female",
          "female"
         ],
         "legendgroup": "",
         "name": "",
         "showlegend": true,
         "type": "pie"
        }
       ],
       "layout": {
        "height": 400,
        "legend": {
         "tracegroupgap": 0
        },
        "piecolorway": [
         "#D1FF66",
         "#94EE00"
        ],
        "template": {
         "data": {
          "bar": [
           {
            "error_x": {
             "color": "#2a3f5f"
            },
            "error_y": {
             "color": "#2a3f5f"
            },
            "marker": {
             "line": {
              "color": "#E5ECF6",
              "width": 0.5
             },
             "pattern": {
              "fillmode": "overlay",
              "size": 10,
              "solidity": 0.2
             }
            },
            "type": "bar"
           }
          ],
          "barpolar": [
           {
            "marker": {
             "line": {
              "color": "#E5ECF6",
              "width": 0.5
             },
             "pattern": {
              "fillmode": "overlay",
              "size": 10,
              "solidity": 0.2
             }
            },
            "type": "barpolar"
           }
          ],
          "carpet": [
           {
            "aaxis": {
             "endlinecolor": "#2a3f5f",
             "gridcolor": "white",
             "linecolor": "white",
             "minorgridcolor": "white",
             "startlinecolor": "#2a3f5f"
            },
            "baxis": {
             "endlinecolor": "#2a3f5f",
             "gridcolor": "white",
             "linecolor": "white",
             "minorgridcolor": "white",
             "startlinecolor": "#2a3f5f"
            },
            "type": "carpet"
           }
          ],
          "choropleth": [
           {
            "colorbar": {
             "outlinewidth": 0,
             "ticks": ""
            },
            "type": "choropleth"
           }
          ],
          "contour": [
           {
            "colorbar": {
             "outlinewidth": 0,
             "ticks": ""
            },
            "colorscale": [
             [
              0,
              "#0d0887"
             ],
             [
              0.1111111111111111,
              "#46039f"
             ],
             [
              0.2222222222222222,
              "#7201a8"
             ],
             [
              0.3333333333333333,
              "#9c179e"
             ],
             [
              0.4444444444444444,
              "#bd3786"
             ],
             [
              0.5555555555555556,
              "#d8576b"
             ],
             [
              0.6666666666666666,
              "#ed7953"
             ],
             [
              0.7777777777777778,
              "#fb9f3a"
             ],
             [
              0.8888888888888888,
              "#fdca26"
             ],
             [
              1,
              "#f0f921"
             ]
            ],
            "type": "contour"
           }
          ],
          "contourcarpet": [
           {
            "colorbar": {
             "outlinewidth": 0,
             "ticks": ""
            },
            "type": "contourcarpet"
           }
          ],
          "heatmap": [
           {
            "colorbar": {
             "outlinewidth": 0,
             "ticks": ""
            },
            "colorscale": [
             [
              0,
              "#0d0887"
             ],
             [
              0.1111111111111111,
              "#46039f"
             ],
             [
              0.2222222222222222,
              "#7201a8"
             ],
             [
              0.3333333333333333,
              "#9c179e"
             ],
             [
              0.4444444444444444,
              "#bd3786"
             ],
             [
              0.5555555555555556,
              "#d8576b"
             ],
             [
              0.6666666666666666,
              "#ed7953"
             ],
             [
              0.7777777777777778,
              "#fb9f3a"
             ],
             [
              0.8888888888888888,
              "#fdca26"
             ],
             [
              1,
              "#f0f921"
             ]
            ],
            "type": "heatmap"
           }
          ],
          "heatmapgl": [
           {
            "colorbar": {
             "outlinewidth": 0,
             "ticks": ""
            },
            "colorscale": [
             [
              0,
              "#0d0887"
             ],
             [
              0.1111111111111111,
              "#46039f"
             ],
             [
              0.2222222222222222,
              "#7201a8"
             ],
             [
              0.3333333333333333,
              "#9c179e"
             ],
             [
              0.4444444444444444,
              "#bd3786"
             ],
             [
              0.5555555555555556,
              "#d8576b"
             ],
             [
              0.6666666666666666,
              "#ed7953"
             ],
             [
              0.7777777777777778,
              "#fb9f3a"
             ],
             [
              0.8888888888888888,
              "#fdca26"
             ],
             [
              1,
              "#f0f921"
             ]
            ],
            "type": "heatmapgl"
           }
          ],
          "histogram": [
           {
            "marker": {
             "pattern": {
              "fillmode": "overlay",
              "size": 10,
              "solidity": 0.2
             }
            },
            "type": "histogram"
           }
          ],
          "histogram2d": [
           {
            "colorbar": {
             "outlinewidth": 0,
             "ticks": ""
            },
            "colorscale": [
             [
              0,
              "#0d0887"
             ],
             [
              0.1111111111111111,
              "#46039f"
             ],
             [
              0.2222222222222222,
              "#7201a8"
             ],
             [
              0.3333333333333333,
              "#9c179e"
             ],
             [
              0.4444444444444444,
              "#bd3786"
             ],
             [
              0.5555555555555556,
              "#d8576b"
             ],
             [
              0.6666666666666666,
              "#ed7953"
             ],
             [
              0.7777777777777778,
              "#fb9f3a"
             ],
             [
              0.8888888888888888,
              "#fdca26"
             ],
             [
              1,
              "#f0f921"
             ]
            ],
            "type": "histogram2d"
           }
          ],
          "histogram2dcontour": [
           {
            "colorbar": {
             "outlinewidth": 0,
             "ticks": ""
            },
            "colorscale": [
             [
              0,
              "#0d0887"
             ],
             [
              0.1111111111111111,
              "#46039f"
             ],
             [
              0.2222222222222222,
              "#7201a8"
             ],
             [
              0.3333333333333333,
              "#9c179e"
             ],
             [
              0.4444444444444444,
              "#bd3786"
             ],
             [
              0.5555555555555556,
              "#d8576b"
             ],
             [
              0.6666666666666666,
              "#ed7953"
             ],
             [
              0.7777777777777778,
              "#fb9f3a"
             ],
             [
              0.8888888888888888,
              "#fdca26"
             ],
             [
              1,
              "#f0f921"
             ]
            ],
            "type": "histogram2dcontour"
           }
          ],
          "mesh3d": [
           {
            "colorbar": {
             "outlinewidth": 0,
             "ticks": ""
            },
            "type": "mesh3d"
           }
          ],
          "parcoords": [
           {
            "line": {
             "colorbar": {
              "outlinewidth": 0,
              "ticks": ""
             }
            },
            "type": "parcoords"
           }
          ],
          "pie": [
           {
            "automargin": true,
            "type": "pie"
           }
          ],
          "scatter": [
           {
            "fillpattern": {
             "fillmode": "overlay",
             "size": 10,
             "solidity": 0.2
            },
            "type": "scatter"
           }
          ],
          "scatter3d": [
           {
            "line": {
             "colorbar": {
              "outlinewidth": 0,
              "ticks": ""
             }
            },
            "marker": {
             "colorbar": {
              "outlinewidth": 0,
              "ticks": ""
             }
            },
            "type": "scatter3d"
           }
          ],
          "scattercarpet": [
           {
            "marker": {
             "colorbar": {
              "outlinewidth": 0,
              "ticks": ""
             }
            },
            "type": "scattercarpet"
           }
          ],
          "scattergeo": [
           {
            "marker": {
             "colorbar": {
              "outlinewidth": 0,
              "ticks": ""
             }
            },
            "type": "scattergeo"
           }
          ],
          "scattergl": [
           {
            "marker": {
             "colorbar": {
              "outlinewidth": 0,
              "ticks": ""
             }
            },
            "type": "scattergl"
           }
          ],
          "scattermapbox": [
           {
            "marker": {
             "colorbar": {
              "outlinewidth": 0,
              "ticks": ""
             }
            },
            "type": "scattermapbox"
           }
          ],
          "scatterpolar": [
           {
            "marker": {
             "colorbar": {
              "outlinewidth": 0,
              "ticks": ""
             }
            },
            "type": "scatterpolar"
           }
          ],
          "scatterpolargl": [
           {
            "marker": {
             "colorbar": {
              "outlinewidth": 0,
              "ticks": ""
             }
            },
            "type": "scatterpolargl"
           }
          ],
          "scatterternary": [
           {
            "marker": {
             "colorbar": {
              "outlinewidth": 0,
              "ticks": ""
             }
            },
            "type": "scatterternary"
           }
          ],
          "surface": [
           {
            "colorbar": {
             "outlinewidth": 0,
             "ticks": ""
            },
            "colorscale": [
             [
              0,
              "#0d0887"
             ],
             [
              0.1111111111111111,
              "#46039f"
             ],
             [
              0.2222222222222222,
              "#7201a8"
             ],
             [
              0.3333333333333333,
              "#9c179e"
             ],
             [
              0.4444444444444444,
              "#bd3786"
             ],
             [
              0.5555555555555556,
              "#d8576b"
             ],
             [
              0.6666666666666666,
              "#ed7953"
             ],
             [
              0.7777777777777778,
              "#fb9f3a"
             ],
             [
              0.8888888888888888,
              "#fdca26"
             ],
             [
              1,
              "#f0f921"
             ]
            ],
            "type": "surface"
           }
          ],
          "table": [
           {
            "cells": {
             "fill": {
              "color": "#EBF0F8"
             },
             "line": {
              "color": "white"
             }
            },
            "header": {
             "fill": {
              "color": "#C8D4E3"
             },
             "line": {
              "color": "white"
             }
            },
            "type": "table"
           }
          ]
         },
         "layout": {
          "annotationdefaults": {
           "arrowcolor": "#2a3f5f",
           "arrowhead": 0,
           "arrowwidth": 1
          },
          "autotypenumbers": "strict",
          "coloraxis": {
           "colorbar": {
            "outlinewidth": 0,
            "ticks": ""
           }
          },
          "colorscale": {
           "diverging": [
            [
             0,
             "#8e0152"
            ],
            [
             0.1,
             "#c51b7d"
            ],
            [
             0.2,
             "#de77ae"
            ],
            [
             0.3,
             "#f1b6da"
            ],
            [
             0.4,
             "#fde0ef"
            ],
            [
             0.5,
             "#f7f7f7"
            ],
            [
             0.6,
             "#e6f5d0"
            ],
            [
             0.7,
             "#b8e186"
            ],
            [
             0.8,
             "#7fbc41"
            ],
            [
             0.9,
             "#4d9221"
            ],
            [
             1,
             "#276419"
            ]
           ],
           "sequential": [
            [
             0,
             "#0d0887"
            ],
            [
             0.1111111111111111,
             "#46039f"
            ],
            [
             0.2222222222222222,
             "#7201a8"
            ],
            [
             0.3333333333333333,
             "#9c179e"
            ],
            [
             0.4444444444444444,
             "#bd3786"
            ],
            [
             0.5555555555555556,
             "#d8576b"
            ],
            [
             0.6666666666666666,
             "#ed7953"
            ],
            [
             0.7777777777777778,
             "#fb9f3a"
            ],
            [
             0.8888888888888888,
             "#fdca26"
            ],
            [
             1,
             "#f0f921"
            ]
           ],
           "sequentialminus": [
            [
             0,
             "#0d0887"
            ],
            [
             0.1111111111111111,
             "#46039f"
            ],
            [
             0.2222222222222222,
             "#7201a8"
            ],
            [
             0.3333333333333333,
             "#9c179e"
            ],
            [
             0.4444444444444444,
             "#bd3786"
            ],
            [
             0.5555555555555556,
             "#d8576b"
            ],
            [
             0.6666666666666666,
             "#ed7953"
            ],
            [
             0.7777777777777778,
             "#fb9f3a"
            ],
            [
             0.8888888888888888,
             "#fdca26"
            ],
            [
             1,
             "#f0f921"
            ]
           ]
          },
          "colorway": [
           "#636efa",
           "#EF553B",
           "#00cc96",
           "#ab63fa",
           "#FFA15A",
           "#19d3f3",
           "#FF6692",
           "#B6E880",
           "#FF97FF",
           "#FECB52"
          ],
          "font": {
           "color": "#2a3f5f"
          },
          "geo": {
           "bgcolor": "white",
           "lakecolor": "white",
           "landcolor": "#E5ECF6",
           "showlakes": true,
           "showland": true,
           "subunitcolor": "white"
          },
          "hoverlabel": {
           "align": "left"
          },
          "hovermode": "closest",
          "mapbox": {
           "style": "light"
          },
          "paper_bgcolor": "white",
          "plot_bgcolor": "#E5ECF6",
          "polar": {
           "angularaxis": {
            "gridcolor": "white",
            "linecolor": "white",
            "ticks": ""
           },
           "bgcolor": "#E5ECF6",
           "radialaxis": {
            "gridcolor": "white",
            "linecolor": "white",
            "ticks": ""
           }
          },
          "scene": {
           "xaxis": {
            "backgroundcolor": "#E5ECF6",
            "gridcolor": "white",
            "gridwidth": 2,
            "linecolor": "white",
            "showbackground": true,
            "ticks": "",
            "zerolinecolor": "white"
           },
           "yaxis": {
            "backgroundcolor": "#E5ECF6",
            "gridcolor": "white",
            "gridwidth": 2,
            "linecolor": "white",
            "showbackground": true,
            "ticks": "",
            "zerolinecolor": "white"
           },
           "zaxis": {
            "backgroundcolor": "#E5ECF6",
            "gridcolor": "white",
            "gridwidth": 2,
            "linecolor": "white",
            "showbackground": true,
            "ticks": "",
            "zerolinecolor": "white"
           }
          },
          "shapedefaults": {
           "line": {
            "color": "#2a3f5f"
           }
          },
          "ternary": {
           "aaxis": {
            "gridcolor": "white",
            "linecolor": "white",
            "ticks": ""
           },
           "baxis": {
            "gridcolor": "white",
            "linecolor": "white",
            "ticks": ""
           },
           "bgcolor": "#E5ECF6",
           "caxis": {
            "gridcolor": "white",
            "linecolor": "white",
            "ticks": ""
           }
          },
          "title": {
           "x": 0.05
          },
          "xaxis": {
           "automargin": true,
           "gridcolor": "white",
           "linecolor": "white",
           "ticks": "",
           "title": {
            "standoff": 15
           },
           "zerolinecolor": "white",
           "zerolinewidth": 2
          },
          "yaxis": {
           "automargin": true,
           "gridcolor": "white",
           "linecolor": "white",
           "ticks": "",
           "title": {
            "standoff": 15
           },
           "zerolinecolor": "white",
           "zerolinewidth": 2
          }
         }
        },
        "title": {
         "text": "Percentage of male and female"
        },
        "transition": {
         "duration": 500
        },
        "width": 900
       }
      }
     },
     "metadata": {},
     "output_type": "display_data"
    }
   ],
   "source": [
    "# Create pie plot\n",
    "fig = px.pie(df, names='sex', color_discrete_sequence=['#D1FF66', '#94EE00',],\n",
    "             title='Percentage of male and female')\n",
    "\n",
    "# Set the figure size\n",
    "fig.update_layout(width=900, height=400)  # Width: 800 pixels, Height: 600 pixels\n",
    "\n",
    "# Add interactivity\n",
    "fig.update_layout(transition_duration=500)  \n",
    "\n",
    "# Display plot\n",
    "fig.show()"
   ]
  },
  {
   "cell_type": "markdown",
   "metadata": {},
   "source": [
    "## **Observations:**\n",
    "> - This plot represents that male and female count has the same value in a sex column in this data.\n",
    "\n",
    "## **Count-Percentage of Method column:**"
   ]
  },
  {
   "cell_type": "code",
   "execution_count": 31,
   "metadata": {},
   "outputs": [
    {
     "data": {
      "application/vnd.plotly.v1+json": {
       "config": {
        "plotlyServerURL": "https://plot.ly"
       },
       "data": [
        {
         "domain": {
          "x": [
           0,
           1
          ],
          "y": [
           0,
           1
          ]
         },
         "hovertemplate": "method=%{label}<extra></extra>",
         "labels": [
          "poison",
          "cookgas",
          "toxicgas",
          "hang",
          "drown",
          "gun",
          "knife",
          "jump",
          "other",
          "poison",
          "cookgas",
          "toxicgas",
          "hang",
          "drown",
          "gun",
          "knife",
          "jump",
          "other",
          "poison",
          "cookgas",
          "toxicgas",
          "hang",
          "drown",
          "gun",
          "knife",
          "jump",
          "other",
          "poison",
          "cookgas",
          "toxicgas",
          "hang",
          "drown",
          "gun",
          "knife",
          "jump",
          "other",
          "poison",
          "cookgas",
          "toxicgas",
          "hang",
          "drown",
          "gun",
          "knife",
          "jump",
          "other",
          "poison",
          "cookgas",
          "toxicgas",
          "hang",
          "drown",
          "gun",
          "knife",
          "jump",
          "other",
          "poison",
          "cookgas",
          "toxicgas",
          "hang",
          "drown",
          "gun",
          "knife",
          "jump",
          "other",
          "poison",
          "cookgas",
          "toxicgas",
          "hang",
          "drown",
          "gun",
          "knife",
          "jump",
          "other",
          "poison",
          "cookgas",
          "toxicgas",
          "hang",
          "drown",
          "gun",
          "knife",
          "jump",
          "other",
          "poison",
          "cookgas",
          "toxicgas",
          "hang",
          "drown",
          "gun",
          "knife",
          "jump",
          "other",
          "poison",
          "cookgas",
          "toxicgas",
          "hang",
          "drown",
          "gun",
          "knife",
          "jump",
          "other",
          "poison",
          "cookgas",
          "toxicgas",
          "hang",
          "drown",
          "gun",
          "knife",
          "jump",
          "other",
          "poison",
          "cookgas",
          "toxicgas",
          "hang",
          "drown",
          "gun",
          "knife",
          "jump",
          "other",
          "poison",
          "cookgas",
          "toxicgas",
          "hang",
          "drown",
          "gun",
          "knife",
          "jump",
          "other",
          "poison",
          "cookgas",
          "toxicgas",
          "hang",
          "drown",
          "gun",
          "knife",
          "jump",
          "other",
          "poison",
          "cookgas",
          "toxicgas",
          "hang",
          "drown",
          "gun",
          "knife",
          "jump",
          "other",
          "poison",
          "cookgas",
          "toxicgas",
          "hang",
          "drown",
          "gun",
          "knife",
          "jump",
          "other",
          "poison",
          "cookgas",
          "toxicgas",
          "hang",
          "drown",
          "gun",
          "knife",
          "jump",
          "other",
          "poison",
          "cookgas",
          "toxicgas",
          "hang",
          "drown",
          "gun",
          "knife",
          "jump",
          "other",
          "poison",
          "cookgas",
          "toxicgas",
          "hang",
          "drown",
          "gun",
          "knife",
          "jump",
          "other",
          "poison",
          "cookgas",
          "toxicgas",
          "hang",
          "drown",
          "gun",
          "knife",
          "jump",
          "other",
          "poison",
          "cookgas",
          "toxicgas",
          "hang",
          "drown",
          "gun",
          "knife",
          "jump",
          "other",
          "poison",
          "cookgas",
          "toxicgas",
          "hang",
          "drown",
          "gun",
          "knife",
          "jump",
          "other",
          "poison",
          "cookgas",
          "toxicgas",
          "hang",
          "drown",
          "gun",
          "knife",
          "jump",
          "other",
          "poison",
          "cookgas",
          "toxicgas",
          "hang",
          "drown",
          "gun",
          "knife",
          "jump",
          "other",
          "poison",
          "cookgas",
          "toxicgas",
          "hang",
          "drown",
          "gun",
          "knife",
          "jump",
          "other",
          "poison",
          "cookgas",
          "toxicgas",
          "hang",
          "drown",
          "gun",
          "knife",
          "jump",
          "other",
          "poison",
          "cookgas",
          "toxicgas",
          "hang",
          "drown",
          "gun",
          "knife",
          "jump",
          "other",
          "poison",
          "cookgas",
          "toxicgas",
          "hang",
          "drown",
          "gun",
          "knife",
          "jump",
          "other",
          "poison",
          "cookgas",
          "toxicgas",
          "hang",
          "drown",
          "gun",
          "knife",
          "jump",
          "other",
          "poison",
          "cookgas",
          "toxicgas",
          "hang",
          "drown",
          "gun",
          "knife",
          "jump",
          "other",
          "poison",
          "cookgas",
          "toxicgas",
          "hang",
          "drown",
          "gun",
          "knife",
          "jump",
          "other",
          "poison",
          "cookgas",
          "toxicgas",
          "hang",
          "drown",
          "gun",
          "knife",
          "jump",
          "other",
          "poison",
          "cookgas",
          "toxicgas",
          "hang",
          "drown",
          "gun",
          "knife",
          "jump",
          "other"
         ],
         "legendgroup": "",
         "name": "",
         "showlegend": true,
         "type": "pie"
        }
       ],
       "layout": {
        "height": 400,
        "legend": {
         "tracegroupgap": 0
        },
        "template": {
         "data": {
          "bar": [
           {
            "error_x": {
             "color": "#2a3f5f"
            },
            "error_y": {
             "color": "#2a3f5f"
            },
            "marker": {
             "line": {
              "color": "#E5ECF6",
              "width": 0.5
             },
             "pattern": {
              "fillmode": "overlay",
              "size": 10,
              "solidity": 0.2
             }
            },
            "type": "bar"
           }
          ],
          "barpolar": [
           {
            "marker": {
             "line": {
              "color": "#E5ECF6",
              "width": 0.5
             },
             "pattern": {
              "fillmode": "overlay",
              "size": 10,
              "solidity": 0.2
             }
            },
            "type": "barpolar"
           }
          ],
          "carpet": [
           {
            "aaxis": {
             "endlinecolor": "#2a3f5f",
             "gridcolor": "white",
             "linecolor": "white",
             "minorgridcolor": "white",
             "startlinecolor": "#2a3f5f"
            },
            "baxis": {
             "endlinecolor": "#2a3f5f",
             "gridcolor": "white",
             "linecolor": "white",
             "minorgridcolor": "white",
             "startlinecolor": "#2a3f5f"
            },
            "type": "carpet"
           }
          ],
          "choropleth": [
           {
            "colorbar": {
             "outlinewidth": 0,
             "ticks": ""
            },
            "type": "choropleth"
           }
          ],
          "contour": [
           {
            "colorbar": {
             "outlinewidth": 0,
             "ticks": ""
            },
            "colorscale": [
             [
              0,
              "#0d0887"
             ],
             [
              0.1111111111111111,
              "#46039f"
             ],
             [
              0.2222222222222222,
              "#7201a8"
             ],
             [
              0.3333333333333333,
              "#9c179e"
             ],
             [
              0.4444444444444444,
              "#bd3786"
             ],
             [
              0.5555555555555556,
              "#d8576b"
             ],
             [
              0.6666666666666666,
              "#ed7953"
             ],
             [
              0.7777777777777778,
              "#fb9f3a"
             ],
             [
              0.8888888888888888,
              "#fdca26"
             ],
             [
              1,
              "#f0f921"
             ]
            ],
            "type": "contour"
           }
          ],
          "contourcarpet": [
           {
            "colorbar": {
             "outlinewidth": 0,
             "ticks": ""
            },
            "type": "contourcarpet"
           }
          ],
          "heatmap": [
           {
            "colorbar": {
             "outlinewidth": 0,
             "ticks": ""
            },
            "colorscale": [
             [
              0,
              "#0d0887"
             ],
             [
              0.1111111111111111,
              "#46039f"
             ],
             [
              0.2222222222222222,
              "#7201a8"
             ],
             [
              0.3333333333333333,
              "#9c179e"
             ],
             [
              0.4444444444444444,
              "#bd3786"
             ],
             [
              0.5555555555555556,
              "#d8576b"
             ],
             [
              0.6666666666666666,
              "#ed7953"
             ],
             [
              0.7777777777777778,
              "#fb9f3a"
             ],
             [
              0.8888888888888888,
              "#fdca26"
             ],
             [
              1,
              "#f0f921"
             ]
            ],
            "type": "heatmap"
           }
          ],
          "heatmapgl": [
           {
            "colorbar": {
             "outlinewidth": 0,
             "ticks": ""
            },
            "colorscale": [
             [
              0,
              "#0d0887"
             ],
             [
              0.1111111111111111,
              "#46039f"
             ],
             [
              0.2222222222222222,
              "#7201a8"
             ],
             [
              0.3333333333333333,
              "#9c179e"
             ],
             [
              0.4444444444444444,
              "#bd3786"
             ],
             [
              0.5555555555555556,
              "#d8576b"
             ],
             [
              0.6666666666666666,
              "#ed7953"
             ],
             [
              0.7777777777777778,
              "#fb9f3a"
             ],
             [
              0.8888888888888888,
              "#fdca26"
             ],
             [
              1,
              "#f0f921"
             ]
            ],
            "type": "heatmapgl"
           }
          ],
          "histogram": [
           {
            "marker": {
             "pattern": {
              "fillmode": "overlay",
              "size": 10,
              "solidity": 0.2
             }
            },
            "type": "histogram"
           }
          ],
          "histogram2d": [
           {
            "colorbar": {
             "outlinewidth": 0,
             "ticks": ""
            },
            "colorscale": [
             [
              0,
              "#0d0887"
             ],
             [
              0.1111111111111111,
              "#46039f"
             ],
             [
              0.2222222222222222,
              "#7201a8"
             ],
             [
              0.3333333333333333,
              "#9c179e"
             ],
             [
              0.4444444444444444,
              "#bd3786"
             ],
             [
              0.5555555555555556,
              "#d8576b"
             ],
             [
              0.6666666666666666,
              "#ed7953"
             ],
             [
              0.7777777777777778,
              "#fb9f3a"
             ],
             [
              0.8888888888888888,
              "#fdca26"
             ],
             [
              1,
              "#f0f921"
             ]
            ],
            "type": "histogram2d"
           }
          ],
          "histogram2dcontour": [
           {
            "colorbar": {
             "outlinewidth": 0,
             "ticks": ""
            },
            "colorscale": [
             [
              0,
              "#0d0887"
             ],
             [
              0.1111111111111111,
              "#46039f"
             ],
             [
              0.2222222222222222,
              "#7201a8"
             ],
             [
              0.3333333333333333,
              "#9c179e"
             ],
             [
              0.4444444444444444,
              "#bd3786"
             ],
             [
              0.5555555555555556,
              "#d8576b"
             ],
             [
              0.6666666666666666,
              "#ed7953"
             ],
             [
              0.7777777777777778,
              "#fb9f3a"
             ],
             [
              0.8888888888888888,
              "#fdca26"
             ],
             [
              1,
              "#f0f921"
             ]
            ],
            "type": "histogram2dcontour"
           }
          ],
          "mesh3d": [
           {
            "colorbar": {
             "outlinewidth": 0,
             "ticks": ""
            },
            "type": "mesh3d"
           }
          ],
          "parcoords": [
           {
            "line": {
             "colorbar": {
              "outlinewidth": 0,
              "ticks": ""
             }
            },
            "type": "parcoords"
           }
          ],
          "pie": [
           {
            "automargin": true,
            "type": "pie"
           }
          ],
          "scatter": [
           {
            "fillpattern": {
             "fillmode": "overlay",
             "size": 10,
             "solidity": 0.2
            },
            "type": "scatter"
           }
          ],
          "scatter3d": [
           {
            "line": {
             "colorbar": {
              "outlinewidth": 0,
              "ticks": ""
             }
            },
            "marker": {
             "colorbar": {
              "outlinewidth": 0,
              "ticks": ""
             }
            },
            "type": "scatter3d"
           }
          ],
          "scattercarpet": [
           {
            "marker": {
             "colorbar": {
              "outlinewidth": 0,
              "ticks": ""
             }
            },
            "type": "scattercarpet"
           }
          ],
          "scattergeo": [
           {
            "marker": {
             "colorbar": {
              "outlinewidth": 0,
              "ticks": ""
             }
            },
            "type": "scattergeo"
           }
          ],
          "scattergl": [
           {
            "marker": {
             "colorbar": {
              "outlinewidth": 0,
              "ticks": ""
             }
            },
            "type": "scattergl"
           }
          ],
          "scattermapbox": [
           {
            "marker": {
             "colorbar": {
              "outlinewidth": 0,
              "ticks": ""
             }
            },
            "type": "scattermapbox"
           }
          ],
          "scatterpolar": [
           {
            "marker": {
             "colorbar": {
              "outlinewidth": 0,
              "ticks": ""
             }
            },
            "type": "scatterpolar"
           }
          ],
          "scatterpolargl": [
           {
            "marker": {
             "colorbar": {
              "outlinewidth": 0,
              "ticks": ""
             }
            },
            "type": "scatterpolargl"
           }
          ],
          "scatterternary": [
           {
            "marker": {
             "colorbar": {
              "outlinewidth": 0,
              "ticks": ""
             }
            },
            "type": "scatterternary"
           }
          ],
          "surface": [
           {
            "colorbar": {
             "outlinewidth": 0,
             "ticks": ""
            },
            "colorscale": [
             [
              0,
              "#0d0887"
             ],
             [
              0.1111111111111111,
              "#46039f"
             ],
             [
              0.2222222222222222,
              "#7201a8"
             ],
             [
              0.3333333333333333,
              "#9c179e"
             ],
             [
              0.4444444444444444,
              "#bd3786"
             ],
             [
              0.5555555555555556,
              "#d8576b"
             ],
             [
              0.6666666666666666,
              "#ed7953"
             ],
             [
              0.7777777777777778,
              "#fb9f3a"
             ],
             [
              0.8888888888888888,
              "#fdca26"
             ],
             [
              1,
              "#f0f921"
             ]
            ],
            "type": "surface"
           }
          ],
          "table": [
           {
            "cells": {
             "fill": {
              "color": "#EBF0F8"
             },
             "line": {
              "color": "white"
             }
            },
            "header": {
             "fill": {
              "color": "#C8D4E3"
             },
             "line": {
              "color": "white"
             }
            },
            "type": "table"
           }
          ]
         },
         "layout": {
          "annotationdefaults": {
           "arrowcolor": "#2a3f5f",
           "arrowhead": 0,
           "arrowwidth": 1
          },
          "autotypenumbers": "strict",
          "coloraxis": {
           "colorbar": {
            "outlinewidth": 0,
            "ticks": ""
           }
          },
          "colorscale": {
           "diverging": [
            [
             0,
             "#8e0152"
            ],
            [
             0.1,
             "#c51b7d"
            ],
            [
             0.2,
             "#de77ae"
            ],
            [
             0.3,
             "#f1b6da"
            ],
            [
             0.4,
             "#fde0ef"
            ],
            [
             0.5,
             "#f7f7f7"
            ],
            [
             0.6,
             "#e6f5d0"
            ],
            [
             0.7,
             "#b8e186"
            ],
            [
             0.8,
             "#7fbc41"
            ],
            [
             0.9,
             "#4d9221"
            ],
            [
             1,
             "#276419"
            ]
           ],
           "sequential": [
            [
             0,
             "#0d0887"
            ],
            [
             0.1111111111111111,
             "#46039f"
            ],
            [
             0.2222222222222222,
             "#7201a8"
            ],
            [
             0.3333333333333333,
             "#9c179e"
            ],
            [
             0.4444444444444444,
             "#bd3786"
            ],
            [
             0.5555555555555556,
             "#d8576b"
            ],
            [
             0.6666666666666666,
             "#ed7953"
            ],
            [
             0.7777777777777778,
             "#fb9f3a"
            ],
            [
             0.8888888888888888,
             "#fdca26"
            ],
            [
             1,
             "#f0f921"
            ]
           ],
           "sequentialminus": [
            [
             0,
             "#0d0887"
            ],
            [
             0.1111111111111111,
             "#46039f"
            ],
            [
             0.2222222222222222,
             "#7201a8"
            ],
            [
             0.3333333333333333,
             "#9c179e"
            ],
            [
             0.4444444444444444,
             "#bd3786"
            ],
            [
             0.5555555555555556,
             "#d8576b"
            ],
            [
             0.6666666666666666,
             "#ed7953"
            ],
            [
             0.7777777777777778,
             "#fb9f3a"
            ],
            [
             0.8888888888888888,
             "#fdca26"
            ],
            [
             1,
             "#f0f921"
            ]
           ]
          },
          "colorway": [
           "#636efa",
           "#EF553B",
           "#00cc96",
           "#ab63fa",
           "#FFA15A",
           "#19d3f3",
           "#FF6692",
           "#B6E880",
           "#FF97FF",
           "#FECB52"
          ],
          "font": {
           "color": "#2a3f5f"
          },
          "geo": {
           "bgcolor": "white",
           "lakecolor": "white",
           "landcolor": "#E5ECF6",
           "showlakes": true,
           "showland": true,
           "subunitcolor": "white"
          },
          "hoverlabel": {
           "align": "left"
          },
          "hovermode": "closest",
          "mapbox": {
           "style": "light"
          },
          "paper_bgcolor": "white",
          "plot_bgcolor": "#E5ECF6",
          "polar": {
           "angularaxis": {
            "gridcolor": "white",
            "linecolor": "white",
            "ticks": ""
           },
           "bgcolor": "#E5ECF6",
           "radialaxis": {
            "gridcolor": "white",
            "linecolor": "white",
            "ticks": ""
           }
          },
          "scene": {
           "xaxis": {
            "backgroundcolor": "#E5ECF6",
            "gridcolor": "white",
            "gridwidth": 2,
            "linecolor": "white",
            "showbackground": true,
            "ticks": "",
            "zerolinecolor": "white"
           },
           "yaxis": {
            "backgroundcolor": "#E5ECF6",
            "gridcolor": "white",
            "gridwidth": 2,
            "linecolor": "white",
            "showbackground": true,
            "ticks": "",
            "zerolinecolor": "white"
           },
           "zaxis": {
            "backgroundcolor": "#E5ECF6",
            "gridcolor": "white",
            "gridwidth": 2,
            "linecolor": "white",
            "showbackground": true,
            "ticks": "",
            "zerolinecolor": "white"
           }
          },
          "shapedefaults": {
           "line": {
            "color": "#2a3f5f"
           }
          },
          "ternary": {
           "aaxis": {
            "gridcolor": "white",
            "linecolor": "white",
            "ticks": ""
           },
           "baxis": {
            "gridcolor": "white",
            "linecolor": "white",
            "ticks": ""
           },
           "bgcolor": "#E5ECF6",
           "caxis": {
            "gridcolor": "white",
            "linecolor": "white",
            "ticks": ""
           }
          },
          "title": {
           "x": 0.05
          },
          "xaxis": {
           "automargin": true,
           "gridcolor": "white",
           "linecolor": "white",
           "ticks": "",
           "title": {
            "standoff": 15
           },
           "zerolinecolor": "white",
           "zerolinewidth": 2
          },
          "yaxis": {
           "automargin": true,
           "gridcolor": "white",
           "linecolor": "white",
           "ticks": "",
           "title": {
            "standoff": 15
           },
           "zerolinecolor": "white",
           "zerolinewidth": 2
          }
         }
        },
        "title": {
         "text": "Count-Percentage of Method column"
        },
        "transition": {
         "duration": 500
        },
        "width": 900
       }
      }
     },
     "metadata": {},
     "output_type": "display_data"
    }
   ],
   "source": [
    "# Create pie plot\n",
    "fig = px.pie(df, names='method',\n",
    "             title='Count-Percentage of Method column')\n",
    "\n",
    "# Set the figure size\n",
    "fig.update_layout(width=900, height=400)  # Width: 800 pixels, Height: 600 pixels\n",
    "\n",
    "# Add interactivity\n",
    "fig.update_layout(transition_duration=500)  \n",
    "\n",
    "# Display plot\n",
    "fig.show()"
   ]
  },
  {
   "cell_type": "markdown",
   "metadata": {},
   "source": [
    "## **Observations:**\n",
    "> - This plot represents that the count of each method has equal in a method column.\n",
    "\n",
    "## **Suicide Rates by Gender in West Germany:** "
   ]
  },
  {
   "cell_type": "code",
   "execution_count": 35,
   "metadata": {},
   "outputs": [
    {
     "data": {
      "image/png": "[encoded data removed]",
      "text/plain": [
       "<Figure size 640x480 with 1 Axes>"
      ]
     },
     "metadata": {},
     "output_type": "display_data"
    }
   ],
   "source": [
    "fig = df.groupby([\"sex\"])[\"Freq\"].sum().plot(kind=\"bar\")\n",
    "\n",
    "plt.title(\"Number of suicidal person according to Gender\")\n",
    "plt.ylabel(\"Number of Suicidals\")\n",
    "plt.xlabel(\"Gender\")\n",
    "\n",
    "for bars in fig.containers:\n",
    "    fig.bar_label(bars)"
   ]
  },
  {
   "cell_type": "markdown",
   "metadata": {},
   "source": [
    "## **Observations:**\n",
    "> ### **Suicide Gender Disparity:**\n",
    "> - The story depicts a significant gender gap in suicide rates. Men commit suicide at a rate of around **63.6%,** whereas women commit suicide at a rate of about **36.4%**.\n",
    "> - The need to explore more into the underlying causes of these gender-based variations in suicide rates is highlighted by this dramatic discrepancy.\n",
    "\n",
    "> ### **Prevalence of Male Suicide:**\n",
    "> - The information shows that males commit the vast majority of suicides in this sample. This suggests that there is a serious problem with the mental health and wellbeing of males.\n",
    "> - Various variables, such as cultural norms, conventional gender roles, and accessibility to mental health services, may have an impact on the rate of male suicide.\n",
    "\n",
    "> ### **Women's Suicide Trends:**\n",
    "> - Despite the lower suicide incidence among females in this dataset, it is important to take into account the particular difficulties and experiences that women face.\n",
    "\n",
    "## **Trend of Suicide Frequencies by Age Group:**"
   ]
  },
  {
   "cell_type": "code",
   "execution_count": 39,
   "metadata": {},
   "outputs": [
    {
     "data": {
      "image/png": "[encoded data removed]",
      "text/plain": [
       "<Figure size 800x400 with 1 Axes>"
      ]
     },
     "metadata": {},
     "output_type": "display_data"
    }
   ],
   "source": [
    "age_group_order = sorted(df['age.group'].unique())\n",
    "\n",
    "# Select the figure size\n",
    "plt.figure(figsize=(8, 4))\n",
    "# Making line plot between age.group and Frequency on the base of Sex\n",
    "sns.lineplot(data=df, x='age.group', y='Freq', hue='sex', sort=False, marker='o')\n",
    "# Give the title  of the plot\n",
    "plt.title('Trend of Suicide Frequencies by Age Group')\n",
    "# Give the label of x-axis\n",
    "plt.xlabel('Age Group')\n",
    "# Give the label of y-axis\n",
    "plt.ylabel('Frequency')\n",
    "# Add legends\n",
    "plt.legend(title='Sex')\n",
    "plt.xticks(range(len(age_group_order)), age_group_order, rotation=45)\n",
    "plt.show()"
   ]
  },
  {
   "cell_type": "markdown",
   "metadata": {},
   "source": [
    "## **Observations:**\n",
    "\n",
    "> ### **Age-Group Trends for Men:**\n",
    "> - The age range with the highest prevalence of suicides among males is 40–50 years, followed by 25–35 years, 55–65 years, 10–20 years, and 70–90 years.\n",
    "> - Notably, across all age categories, the frequency of male suicide continuously outpaces that of female suicide, highlighting a disturbing gender-based tendency in suicide rates.\n",
    "\n",
    "> ### **Age-Group Trends for Women:**\n",
    "> - The largest rate of suicide among females occurs between the ages of 55 and 65, followed by those between 40 and 50, 25 to 35, between 70 and 90, and between 10 and 20.\n",
    "> - Similar to this, a gender discrepancy in suicide rates persists throughout all age groups, with male suicide frequency remaining greater than female suicide frequency.\n",
    "\n",
    "> ### **Specific Age Group Interventions:**\n",
    "> - The statistics emphasize the value of programs tailored to certain age groups. For instance, the high rate of suicide among people in the 40–50 and 25–35 age groups calls for specialized mental health initiatives that address the issues these age groups experience.\n",
    "> - Recognizing that each age group may have unique pressures is significant; treating them is crucial for lowering suicide rates.\n",
    "\n",
    "\n",
    "## **Suicidality rates by gender and method:**\n"
   ]
  },
  {
   "cell_type": "code",
   "execution_count": 41,
   "metadata": {},
   "outputs": [
    {
     "data": {
      "image/png": "[encoded data removed]",
      "text/plain": [
       "<Figure size 1200x600 with 1 Axes>"
      ]
     },
     "metadata": {},
     "output_type": "display_data"
    }
   ],
   "source": [
    "freq_method = df.groupby([\"method\", \"sex\"], as_index=False)[\"Freq\"].sum().sort_values(by=\"Freq\", ascending=False)\n",
    "\n",
    "# Select the figure size \n",
    "plt.figure(figsize=(12,6))\n",
    "# Make a barplot between method and Frequency on the base of Sex\n",
    "fig = sns.barplot(data=freq_method, x=\"method\", y=\"Freq\", hue=\"sex\", alpha=1, saturation=0.8, palette=[\"Green\", 'chartreuse'])\n",
    "# Give he title of the plot\n",
    "plt.title(\"Suiciding rate of people in different method according to Gender\", size=(15))\n",
    "# Give the label of x-axis\n",
    "plt.xlabel(\"Methods of Suicides\", size=(20))\n",
    "# Give the label of y-axis\n",
    "plt.ylabel(\"Number of Deaths\", size=(15))\n",
    "\n",
    "for bars in fig.containers:\n",
    "    fig.bar_label(bars)"
   ]
  },
  {
   "cell_type": "markdown",
   "metadata": {},
   "source": [
    "## **Observations:**\n",
    "\n",
    "> ### **Hanging:**\n",
    "> - Hanging stands out as the most popular means of suicide among both males and girls. Hanging was used in about **27.7%** of male suicides and **10.6%** of female suicides.\n",
    "> - This information emphasizes how prevalent it is for people of both sexes to commit suicide, which justifies targeted measures to prevent it.\n",
    "\n",
    "> ### **Poison:**\n",
    "> - For both sexes, poisoning is the second most typical approach. About **16.76%** of suicides in men and **16.26%** in women included poisoning.\n",
    "> Because poisoning is such a common tactic, it is essential to comprehend the causes of its widespread usage and put preventative measures particular to it into place.\n",
    "\n",
    "> ### **Other Techniques:**\n",
    "> - While the majority of suicides are committed by hanging or poisoning, it's important to recognize that other, albeit less often utilized, techniques are sometimes employed.\n",
    "> - The risk factors and conditions associated with these less common ways may be particular to them, necessitating a comprehensive strategy for suicide prevention that covers a range of techniques.\n",
    "\n",
    "> ### **Unbiased Gender Prevalence:**\n",
    "> - It's interesting that hanging and poisoning are common suicide techniques for both sexes, showing a degree of gender-neutral danger for doing so.\n",
    "> - In addition to acknowledging the differences in overall suicide rates across genders, suicide prevention measures should take into consideration this prevalence's lack of gender bias.\n",
    "\n",
    "## **Suicide Rates by Age Group and Gender in West Germany:**"
   ]
  },
  {
   "cell_type": "code",
   "execution_count": 42,
   "metadata": {},
   "outputs": [
    {
     "data": {
      "image/png": "[encoded data removed]",
      "text/plain": [
       "<Figure size 800x400 with 1 Axes>"
      ]
     },
     "metadata": {},
     "output_type": "display_data"
    }
   ],
   "source": [
    "age_grp_freq = df.groupby([\"age.group\", \"sex\"], as_index=False)['Freq'].sum().sort_values(by=\"Freq\", ascending=False)\n",
    "\n",
    "# Select the figure size\n",
    "plt.figure(figsize=(8,4))\n",
    "# Make the barplot between age.group and Frequency  on the base of Sex\n",
    "fig = sns.barplot(data=age_grp_freq, x=\"age.group\", y=\"Freq\", hue=\"sex\", alpha=1, saturation=0.8, palette=\"GnBu\")\n",
    "# Give the title of the plot\n",
    "plt.title(\"Number of Suicides in Age groups according to Gender\")\n",
    "# Give the label of x-axis\n",
    "plt.xlabel(\"Age Groups\")\n",
    "# Give the label of y=axis\n",
    "plt.ylabel(\"Number of Suicides\")\n",
    "\n",
    "for bars in fig.containers:\n",
    "    fig.bar_label(bars)"
   ]
  },
  {
   "cell_type": "markdown",
   "metadata": {},
   "source": [
    "## **Observations:**\n",
    "\n",
    "> ### **Highest Risk Age Groups:**\n",
    "> - The data shows the highest suicide rate for males was in the 40-50 year old age group, where **17.1%** of all male suicides occurred.\n",
    "> - The second highest male suicide rate was **16.5%** in the 25-35 year old age group.\n",
    "> - Females had their highest suicide rate of **9.2%** in the 40-50 year old group as well.\n",
    "\n",
    "> ### **Potential Risk Factors by Age:**\n",
    "> - For the **40-50** age group, stress from career responsibilities and family obligations during mid-life may contribute to higher rates.\n",
    "> - For ages **25-35**, major life transitions like finishing education and starting a career or family could increase stress and vulnerability for young adult males.\n",
    "\n",
    "> ### **Trends by Gender:**\n",
    "> - Rates were consistently higher for males across all age groups.\n",
    "> - However, females also saw elevated risks during mid-life challenges like ages 40-50, though at a lower rate than males.\n",
    "\n",
    "> ### **Lower Risk Age Groups:**\n",
    "> - Suicide rates generally trended downwards for both sexes as ages increased past 50 years old.\n",
    "> - Younger ages 10-20 had the lowest rates, likely due to less life responsibilities and parental guidance.\n",
    "\n",
    "> ### **Overall Trends:**\n",
    "> - In summary, this data shows **mid-life** as a high risk period for suicide among both West German males and females. Younger and older age ranges saw lower suicide rates overall.\n",
    "\n",
    "## **Suicide Rates by Age Group and Methods of committed suicide:**"
   ]
  },
  {
   "cell_type": "code",
   "execution_count": 43,
   "metadata": {},
   "outputs": [
    {
     "data": {
      "image/png": "[encoded data removed]",
      "text/plain": [
       "<Figure size 1500x600 with 1 Axes>"
      ]
     },
     "metadata": {},
     "output_type": "display_data"
    }
   ],
   "source": [
    "age_grp_mthd = df.groupby([\"age.group\", \"method2\"], as_index=False)['Freq'].sum().sort_values(by=\"Freq\", ascending=False)\n",
    "\n",
    "# Select the figure size\n",
    "plt.figure(figsize=(15,6))\n",
    "# Make a barplot between method2 and frequency  on the base of age.group\n",
    "fig = sns.barplot(data=age_grp_mthd, x=\"method2\", y=\"Freq\", hue=\"age.group\", alpha=1, saturation=0.7)\n",
    "# Add Title of the plot\n",
    "plt.title(\"Number of Suicides with different Methods according to Age Groups\")\n",
    "# Add label of x-axis\n",
    "plt.xlabel(\"Methods of Suicides\")\n",
    "# Add label of y-axis\n",
    "plt.ylabel(\"Number of Suicieds\")\n",
    "\n",
    "for bars in fig.containers:\n",
    "    fig.bar_label(bars)"
   ]
  },
  {
   "cell_type": "code",
   "execution_count": 50,
   "metadata": {},
   "outputs": [
    {
     "data": {
      "image/png": "[encoded data removed]",
      "text/plain": [
       "<Figure size 2500x500 with 5 Axes>"
      ]
     },
     "metadata": {},
     "output_type": "display_data"
    }
   ],
   "source": [
    "age_grp_mthd = df.groupby([\"age.group\", \"method2\"], as_index=False)['Freq'].sum().sort_values(by=\"Freq\", ascending=False)\n",
    "\n",
    "# Make a catplot between method2 and frequency on the base of age.group\n",
    "fig = sns.catplot(data=age_grp_mthd, x=\"method2\", y=\"Freq\",kind=\"bar\", col=\"age.group\")"
   ]
  },
  {
   "cell_type": "markdown",
   "metadata": {},
   "source": [
    "## **Observations:**\n",
    "\n",
    "> ### **Highest Rates by Age and Gender:**\n",
    "> - Males ages 40-50 had the highest rate at 17.1% of all suicides. This mid-life period brings significant stress from career and family obligations.\n",
    "> - Males ages 25-35 were also high risk at 16.5%. Leaving education and adjusting to independent living takes an emotional toll on many young adults.\n",
    "> - Females ages 40-50 followed at 9.2%, reflecting common mid-life challenges faced by both genders.\n",
    "\n",
    "> ### **Hanging - A Highly Lethal Option:**\n",
    "> - This method accounted for over a quarter of suicides in the 40-50 age bracket, who were under intense stress. Its efficiency makes hanging an unfortunate choice for those seeking a quick death.\n",
    "\n",
    "> ### **Poisoning - Accessible but Prolonged Suffering:**\n",
    "> - Ages 40-50 and 25-35 heavily utilized poisoning at over 20% each, likely due to easy access through medicines or household chemicals. However, it causes a drawn-out demise.\n",
    "\n",
    "> ### **Lower Rates in Childhood and Old Age:**\n",
    "> - Younger people had parental protection and fewer responsibilities. Older adults gained resilience, yet social isolation can be problematic.\n",
    "\n",
    "> ### **Commonality of Top Methods:**\n",
    "> - Hanging and poisoning together surpassed 50% of deaths across all age groups, indicating a need for restricting access to dangerously lethal means.\n",
    "\n",
    "> ### **Conclusion:**\n",
    "> - In conclusion, mid-life crisis years appeared riskiest, with gender-influenced factors impacting methods chosen in moments of desperation.\n",
    "\n",
    "## **Suicide Trends in West Germany: A Heatmap Analysis:**"
   ]
  },
  {
   "cell_type": "code",
   "execution_count": 51,
   "metadata": {},
   "outputs": [
    {
     "data": {
      "image/png": "[encoded data removed]",
      "text/plain": [
       "<Figure size 1000x600 with 2 Axes>"
      ]
     },
     "metadata": {},
     "output_type": "display_data"
    }
   ],
   "source": [
    "pivot_table = df.pivot_table(index='age.group', columns='method', values='Freq', aggfunc=np.sum)\n",
    "\n",
    "# Select the figure size\n",
    "plt.figure(figsize=(10, 6))\n",
    "# Make a heatmap to check the relationship between variables\n",
    "sns.heatmap(data=pivot_table, cmap='YlOrRd', annot=True, fmt='g')\n",
    "# Give the title of the map\n",
    "plt.title('Frequency of Suicides by Age Group and Method')\n",
    "# Add label of x-axis\n",
    "plt.xlabel('Method')\n",
    "# Add label of y-axis\n",
    "plt.ylabel('Age Group')\n",
    "# Show the plot\n",
    "plt.show()"
   ]
  },
  {
   "cell_type": "markdown",
   "metadata": {},
   "source": [
    "## **Observations:**\n",
    "\n",
    "> ### **Hanging Method:**\n",
    "> - Ages 40-50 show the darkest red shading, indicating this group had the highest rates of suicide by hanging at 27%.\n",
    "> - Ages 55-65 are also highly shaded red at 25%, reflecting continuing elevated risks.\n",
    "\n",
    "> ### **Poisoning Method:**\n",
    "> - Ages 40-50 appear in the darkest black tone, with 23% of suicides in this age bracket using poisoning.\n",
    "> - Ages 25-35 follow closely with deep red shading at 21% poisoning deaths.\n",
    "\n",
    "> ### **Other Methods:**\n",
    "> - Lighter orange shades represent lower percentages across all age groups for methods like firearms, drowning, etc.\n",
    "\n",
    "> ### **Age-Related Patterns:**\n",
    "> - Younger ages 10-20 have the lightest shading, highlighting lower risks overall.\n",
    "> - Shades gradually darken into midlife and then lighten in older years.\n",
    "\n",
    "> ### **Summary:**\n",
    "> - In summary, the heatmap depicts hanging and poisoning as the predominant suicide methods centered around midlife adults aged 40-50 in West Germany, according to percentages within each age demographic. Other means were utilized less frequently across all age brackets"
   ]
  },
  {
   "cell_type": "markdown",
   "metadata": {},
   "source": [
    "# **Summary:** \n",
    "A detailed analysis of West Germany's suicide rates from 1979 gives insight into the state of the country's mental health. West Germany had a particular set of difficulties in this year, ranging from economic woes to the more general social changes of the period. Despite being expressed as a number, the suicide rate is a reflection of people's problems, social pressures, and continual change. It is crucial to situate this rate within both the historical framework and the larger global context in order to understand it."
   ]
  }
 ],
 "metadata": {
  "kernelspec": {
   "display_name": "Python 3",
   "language": "python",
   "name": "python3"
  },
  "language_info": {
   "codemirror_mode": {
    "name": "ipython",
    "version": 3
   },
   "file_extension": ".py",
   "mimetype": "text/x-python",
   "name": "python",
   "nbconvert_exporter": "python",
   "pygments_lexer": "ipython3",
   "version": "3.11.5"
  }
 },
 "nbformat": 4,
 "nbformat_minor": 2
}
